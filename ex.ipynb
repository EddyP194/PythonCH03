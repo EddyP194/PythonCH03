{
 "cells": [
  {
   "cell_type": "code",
   "execution_count": 6,
   "metadata": {},
   "outputs": [
    {
     "name": "stdout",
     "output_type": "stream",
     "text": [
      "Programmin\n"
     ]
    },
    {
     "data": {
      "text/plain": [
       "0"
      ]
     },
     "execution_count": 6,
     "metadata": {},
     "output_type": "execute_result"
    }
   ],
   "source": [
    "original_string = \"Python Programming\"\n",
    "print(original_string[7:len(original_string)-1])\n",
    "\n",
    "original_string.find('Java')\n",
    "\n",
    "original_string.split()\n",
    "original_string.index('P')"
   ]
  },
  {
   "cell_type": "code",
   "execution_count": 7,
   "metadata": {},
   "outputs": [
    {
     "data": {
      "text/plain": [
       "True"
      ]
     },
     "execution_count": 7,
     "metadata": {},
     "output_type": "execute_result"
    }
   ],
   "source": [
    "num1 = 10\n",
    "num2 = 20\n",
    "num1 < num2"
   ]
  },
  {
   "cell_type": "code",
   "execution_count": 8,
   "metadata": {},
   "outputs": [
    {
     "name": "stdout",
     "output_type": "stream",
     "text": [
      "This number is greater than 100\n"
     ]
    }
   ],
   "source": [
    "num = int(input('Input Here: '))\n",
    "\n",
    "if num <= 100:\n",
    "    print('This number is less than 100')\n",
    "else:\n",
    "    print('This number is greater than 100')"
   ]
  },
  {
   "cell_type": "code",
   "execution_count": 9,
   "metadata": {},
   "outputs": [
    {
     "name": "stdout",
     "output_type": "stream",
     "text": [
      "v1 and v2 are the same\n"
     ]
    }
   ],
   "source": [
    "v1 = 12.34; v2 = 12.3400000000000000000001\n",
    "if v1 == v2:\n",
    "    print('v1 and v2 are the same')\n",
    "else:\n",
    "    print('v1 and v2 are different')"
   ]
  },
  {
   "cell_type": "code",
   "execution_count": 1,
   "metadata": {},
   "outputs": [
    {
     "name": "stdout",
     "output_type": "stream",
     "text": [
      "str1 is greater than str2\n"
     ]
    }
   ],
   "source": [
    "str1 = 'Python'\n",
    "str2 = 'Java'\n",
    "if str1 > str2:\n",
    "    print('str1 is greater than str2')\n",
    "else:\n",
    "    print('str1 is less than str2')"
   ]
  },
  {
   "cell_type": "code",
   "execution_count": 2,
   "metadata": {},
   "outputs": [
    {
     "name": "stdout",
     "output_type": "stream",
     "text": [
      "str1 is less than str2\n"
     ]
    }
   ],
   "source": [
    "str1 = 'R'\n",
    "str2 = 'Python'\n",
    "if len(str1) > len(str2):\n",
    "    print('str1 is greater than str2')\n",
    "else: \n",
    "    print('str1 is less than str2')"
   ]
  },
  {
   "cell_type": "code",
   "execution_count": null,
   "metadata": {},
   "outputs": [],
   "source": [
    "score = 60\n",
    "if score >= 90:\n",
    "    print('A')\n",
    "elif score >= 80:\n",
    "    print('B')\n",
    "elif score >= 70:\n",
    "    print('C')\n",
    "elif score >= 60:\n",
    "    print('D')\n",
    "elif score >= 50:\n",
    "    print('E')\n",
    "elif score >= 40:\n",
    "    print('F')\n",
    "    \n",
    "\n",
    "    "
   ]
  }
 ],
 "metadata": {
  "kernelspec": {
   "display_name": "base",
   "language": "python",
   "name": "python3"
  },
  "language_info": {
   "codemirror_mode": {
    "name": "ipython",
    "version": 3
   },
   "file_extension": ".py",
   "mimetype": "text/x-python",
   "name": "python",
   "nbconvert_exporter": "python",
   "pygments_lexer": "ipython3",
   "version": "3.12.4"
  }
 },
 "nbformat": 4,
 "nbformat_minor": 2
}
